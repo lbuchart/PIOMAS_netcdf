{
 "cells": [
  {
   "cell_type": "code",
   "execution_count": 51,
   "metadata": {},
   "outputs": [],
   "source": [
    "import numpy as np\n",
    "import pandas as pd\n",
    "import struct\n",
    "import xarray as xr"
   ]
  },
  {
   "cell_type": "code",
   "execution_count": 52,
   "metadata": {},
   "outputs": [],
   "source": [
    "grids = {}\n",
    "\n",
    "for i in ['lon','lat']:\n",
    "\n",
    "    grid = np.array(pd.read_csv(f'grids/{i}grid.dat',header=None, delim_whitespace=True))\n",
    "\n",
    "    flat_grid = grid.ravel()\n",
    "\n",
    "    shaped_grid = flat_grid.reshape(360,120)\n",
    "    \n",
    "    grids[i] = shaped_grid\n"
   ]
  },
  {
   "cell_type": "code",
   "execution_count": 53,
   "metadata": {},
   "outputs": [],
   "source": [
    "def process_piomas(year):\n",
    "    \n",
    "    binary_dir = f'binaries/icevel.H{year}'\n",
    "    \n",
    "    ############################################################\n",
    "    \n",
    "    # Read File\n",
    "    \n",
    "    with open(binary_dir, mode='rb') as file:\n",
    "    \n",
    "        fileContent = file.read()\n",
    "        data = struct.unpack(\"f\" * (len(fileContent)// 4), fileContent)\n",
    "        \n",
    "    ############################################################\n",
    "    \n",
    "    # Put it in a 3D array\n",
    "        \n",
    "        native_data = np.full((12, 120, 360), np.nan)\n",
    "\n",
    "        for month in range(1, 13):\n",
    "            \n",
    "            start = (month-1)*(360*120)\n",
    "            end = month*(360*120)\n",
    "            thickness_list = np.array(data[start:end])\n",
    "            \n",
    "            gridded = thickness_list.reshape(360, 120)\n",
    "            native_data[month-1, :, :] = gridded.transpose()\n",
    "            \n",
    "          \n",
    "    ############################################################\n",
    "    \n",
    "    # Transpose all three variables which will be output\n",
    "    \n",
    "        lon = grids['lon'].transpose()\n",
    "        lat = grids['lat'].transpose()\n",
    "    \n",
    "    #############################################################\n",
    "        \n",
    "    # Output to NetCDF4\n",
    "        \n",
    "        ds = xr.Dataset( data_vars={'velocity':(['t','x','y'], native_data)},\n",
    "\n",
    "                         coords =  {'lon':(['x','y'], lon),\n",
    "                                    'lat':(['x','y'], lat),\n",
    "                                    'month':(['t'], np.array(range(1,13)))})\n",
    "        \n",
    "        ds.attrs['data_name'] = 'Monthly mean Piomas sea ice velocity data'\n",
    "        \n",
    "        ds.attrs['description'] = \"\"\"Sea ice velocity in meters per second on the native 360x120 grid, \n",
    "                                    data produced by University of Washington Polar Science Center\"\"\"\n",
    "        \n",
    "        ds.attrs['year'] = f\"\"\"These data are for the year {year}\"\"\"\n",
    "        \n",
    "        ds.attrs['citation'] = \"\"\"When using this data please use the citation: \n",
    "                                Zhang, Jinlun and D.A. Rothrock: Modeling global sea \n",
    "                                ice with a thickness and enthalpy distribution model \n",
    "                                in generalized curvilinear coordinates,\n",
    "                                Mon. Wea. Rev. 131(5), 681-697, 2003.\"\"\"\n",
    "        \n",
    "        ds.attrs['code to read'] = \"\"\"  # Example code to read a month of this data \n",
    "    \n",
    "                                        def read_month_of_piomas(year,month): \n",
    "    \n",
    "                                            data_dir = 'output/' \n",
    "\n",
    "                                            with xr.open_dataset(f'{data_dir}{year}.nc') as data: \n",
    "\n",
    "                                                ds_month = data.where(int(month) == data.month, drop =True) \n",
    "\n",
    "                                                return(ds_month)\"\"\"\n",
    "        \n",
    "        ds.attrs['python author'] = \"\"\"Robbie Mallett wrote this python code. If there's a problem with it, \n",
    "                                        email him at robbie.mallett.17@ucl.ac.uk\"\"\"\n",
    "                                \n",
    "        \n",
    "        \n",
    "\n",
    "        output_dir = f'output/'\n",
    "\n",
    "        ds.to_netcdf(f'{output_dir}{year}.nc','w')\n",
    "        "
   ]
  },
  {
   "cell_type": "code",
   "execution_count": 54,
   "metadata": {},
   "outputs": [
    {
     "ename": "ValueError",
     "evalue": "could not broadcast input array from shape (120,360) into shape (360,120)",
     "output_type": "error",
     "traceback": [
      "\u001b[1;31m---------------------------------------------------------------------------\u001b[0m",
      "\u001b[1;31mValueError\u001b[0m                                Traceback (most recent call last)",
      "\u001b[1;32m<ipython-input-54-998170836ee8>\u001b[0m in \u001b[0;36m<module>\u001b[1;34m\u001b[0m\n\u001b[0;32m      1\u001b[0m \u001b[1;32mfor\u001b[0m \u001b[0myear\u001b[0m \u001b[1;32min\u001b[0m \u001b[0mrange\u001b[0m\u001b[1;33m(\u001b[0m\u001b[1;36m1979\u001b[0m\u001b[1;33m,\u001b[0m\u001b[1;36m2020\u001b[0m\u001b[1;33m)\u001b[0m\u001b[1;33m:\u001b[0m\u001b[1;33m\u001b[0m\u001b[1;33m\u001b[0m\u001b[0m\n\u001b[0;32m      2\u001b[0m \u001b[1;33m\u001b[0m\u001b[0m\n\u001b[1;32m----> 3\u001b[1;33m     \u001b[0mprocess_piomas\u001b[0m\u001b[1;33m(\u001b[0m\u001b[0myear\u001b[0m\u001b[1;33m)\u001b[0m\u001b[1;33m\u001b[0m\u001b[1;33m\u001b[0m\u001b[0m\n\u001b[0m",
      "\u001b[1;32m<ipython-input-53-d3b95056433f>\u001b[0m in \u001b[0;36mprocess_piomas\u001b[1;34m(year)\u001b[0m\n\u001b[0;32m     25\u001b[0m \u001b[1;33m\u001b[0m\u001b[0m\n\u001b[0;32m     26\u001b[0m             \u001b[0mgridded\u001b[0m \u001b[1;33m=\u001b[0m \u001b[0mthickness_list\u001b[0m\u001b[1;33m.\u001b[0m\u001b[0mreshape\u001b[0m\u001b[1;33m(\u001b[0m\u001b[1;36m360\u001b[0m\u001b[1;33m,\u001b[0m\u001b[1;36m120\u001b[0m\u001b[1;33m)\u001b[0m\u001b[1;33m\u001b[0m\u001b[1;33m\u001b[0m\u001b[0m\n\u001b[1;32m---> 27\u001b[1;33m             \u001b[0mnative_data\u001b[0m\u001b[1;33m[\u001b[0m\u001b[0mmonth\u001b[0m\u001b[1;33m-\u001b[0m\u001b[1;36m1\u001b[0m\u001b[1;33m,\u001b[0m\u001b[1;33m:\u001b[0m\u001b[1;33m,\u001b[0m\u001b[1;33m:\u001b[0m\u001b[1;33m]\u001b[0m \u001b[1;33m=\u001b[0m \u001b[0mgridded\u001b[0m\u001b[1;33m.\u001b[0m\u001b[0mtranspose\u001b[0m\u001b[1;33m(\u001b[0m\u001b[1;33m)\u001b[0m\u001b[1;33m\u001b[0m\u001b[1;33m\u001b[0m\u001b[0m\n\u001b[0m\u001b[0;32m     28\u001b[0m \u001b[1;33m\u001b[0m\u001b[0m\n\u001b[0;32m     29\u001b[0m \u001b[1;33m\u001b[0m\u001b[0m\n",
      "\u001b[1;31mValueError\u001b[0m: could not broadcast input array from shape (120,360) into shape (360,120)"
     ]
    }
   ],
   "source": [
    "for year in range(1979,2020):\n",
    "    \n",
    "    process_piomas(year)"
   ]
  },
  {
   "cell_type": "code",
   "execution_count": null,
   "metadata": {},
   "outputs": [],
   "source": []
  }
 ],
 "metadata": {
  "kernelspec": {
   "display_name": "Python 3",
   "language": "python",
   "name": "python3"
  },
  "language_info": {
   "codemirror_mode": {
    "name": "ipython",
    "version": 3
   },
   "file_extension": ".py",
   "mimetype": "text/x-python",
   "name": "python",
   "nbconvert_exporter": "python",
   "pygments_lexer": "ipython3",
   "version": "3.7.6"
  }
 },
 "nbformat": 4,
 "nbformat_minor": 4
}
